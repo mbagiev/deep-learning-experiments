{
 "cells": [
  {
   "cell_type": "code",
   "execution_count": 1,
   "metadata": {},
   "outputs": [
    {
     "name": "stderr",
     "output_type": "stream",
     "text": [
      "/Users/maratb/GitHub/deep-learning-experiments/.venv/lib/python3.9/site-packages/urllib3/__init__.py:35: NotOpenSSLWarning: urllib3 v2 only supports OpenSSL 1.1.1+, currently the 'ssl' module is compiled with 'LibreSSL 2.8.3'. See: https://github.com/urllib3/urllib3/issues/3020\n",
      "  warnings.warn(\n"
     ]
    }
   ],
   "source": [
    "from sklearn.datasets import fetch_california_housing\n",
    "from sklearn.model_selection import train_test_split\n",
    "\n",
    "import tensorflow as tf"
   ]
  },
  {
   "cell_type": "code",
   "execution_count": 2,
   "metadata": {},
   "outputs": [],
   "source": [
    "# Load and split the California housing dataset\n",
    "housing = fetch_california_housing()\n",
    "X_train_full, X_test, y_train_full, y_test = train_test_split(\n",
    "    housing.data, housing.target, random_state=10)\n",
    "X_train, X_valid, y_train, y_valid = train_test_split(\n",
    "    X_train_full, y_train_full, random_state=10)"
   ]
  },
  {
   "cell_type": "code",
   "execution_count": 6,
   "metadata": {},
   "outputs": [
    {
     "name": "stderr",
     "output_type": "stream",
     "text": [
      "WARNING:absl:At this time, the v2.11+ optimizer `tf.keras.optimizers.Adam` runs slowly on M1/M2 Macs, please use the legacy Keras optimizer instead, located at `tf.keras.optimizers.legacy.Adam`.\n"
     ]
    },
    {
     "name": "stdout",
     "output_type": "stream",
     "text": [
      "Epoch 1/20\n",
      "363/363 [==============================] - 0s 693us/step - loss: 0.8086 - root_mean_squared_error: 0.8992 - val_loss: 0.4449 - val_root_mean_squared_error: 0.6670\n",
      "Epoch 2/20\n",
      "363/363 [==============================] - 0s 537us/step - loss: 0.3964 - root_mean_squared_error: 0.6296 - val_loss: 0.3819 - val_root_mean_squared_error: 0.6180\n",
      "Epoch 3/20\n",
      "363/363 [==============================] - 0s 531us/step - loss: 0.3591 - root_mean_squared_error: 0.5992 - val_loss: 0.3538 - val_root_mean_squared_error: 0.5948\n",
      "Epoch 4/20\n",
      "363/363 [==============================] - 0s 563us/step - loss: 0.3373 - root_mean_squared_error: 0.5807 - val_loss: 0.4018 - val_root_mean_squared_error: 0.6339\n",
      "Epoch 5/20\n",
      "363/363 [==============================] - 0s 546us/step - loss: 0.3312 - root_mean_squared_error: 0.5755 - val_loss: 0.3588 - val_root_mean_squared_error: 0.5990\n",
      "Epoch 6/20\n",
      "363/363 [==============================] - 0s 488us/step - loss: 0.3184 - root_mean_squared_error: 0.5642 - val_loss: 0.3248 - val_root_mean_squared_error: 0.5699\n",
      "Epoch 7/20\n",
      "363/363 [==============================] - 0s 487us/step - loss: 0.3115 - root_mean_squared_error: 0.5582 - val_loss: 0.3202 - val_root_mean_squared_error: 0.5659\n",
      "Epoch 8/20\n",
      "363/363 [==============================] - 0s 489us/step - loss: 0.3050 - root_mean_squared_error: 0.5523 - val_loss: 0.3229 - val_root_mean_squared_error: 0.5683\n",
      "Epoch 9/20\n",
      "363/363 [==============================] - 0s 495us/step - loss: 0.2963 - root_mean_squared_error: 0.5443 - val_loss: 0.3088 - val_root_mean_squared_error: 0.5557\n",
      "Epoch 10/20\n",
      "363/363 [==============================] - 0s 500us/step - loss: 0.2922 - root_mean_squared_error: 0.5405 - val_loss: 0.3084 - val_root_mean_squared_error: 0.5553\n",
      "Epoch 11/20\n",
      "363/363 [==============================] - 0s 495us/step - loss: 0.2883 - root_mean_squared_error: 0.5369 - val_loss: 0.3020 - val_root_mean_squared_error: 0.5495\n",
      "Epoch 12/20\n",
      "363/363 [==============================] - 0s 499us/step - loss: 0.2830 - root_mean_squared_error: 0.5320 - val_loss: 0.3041 - val_root_mean_squared_error: 0.5515\n",
      "Epoch 13/20\n",
      "363/363 [==============================] - 0s 565us/step - loss: 0.2821 - root_mean_squared_error: 0.5312 - val_loss: 0.3241 - val_root_mean_squared_error: 0.5693\n",
      "Epoch 14/20\n",
      "363/363 [==============================] - 0s 492us/step - loss: 0.2772 - root_mean_squared_error: 0.5265 - val_loss: 0.3039 - val_root_mean_squared_error: 0.5513\n",
      "Epoch 15/20\n",
      "363/363 [==============================] - 0s 493us/step - loss: 0.2766 - root_mean_squared_error: 0.5259 - val_loss: 0.3051 - val_root_mean_squared_error: 0.5524\n",
      "Epoch 16/20\n",
      "363/363 [==============================] - 0s 497us/step - loss: 0.2748 - root_mean_squared_error: 0.5242 - val_loss: 0.3000 - val_root_mean_squared_error: 0.5477\n",
      "Epoch 17/20\n",
      "363/363 [==============================] - 0s 492us/step - loss: 0.2688 - root_mean_squared_error: 0.5184 - val_loss: 0.3053 - val_root_mean_squared_error: 0.5525\n",
      "Epoch 18/20\n",
      "363/363 [==============================] - 0s 491us/step - loss: 0.2667 - root_mean_squared_error: 0.5165 - val_loss: 0.3035 - val_root_mean_squared_error: 0.5509\n",
      "Epoch 19/20\n",
      "363/363 [==============================] - 0s 495us/step - loss: 0.2663 - root_mean_squared_error: 0.5160 - val_loss: 0.3074 - val_root_mean_squared_error: 0.5544\n",
      "Epoch 20/20\n",
      "363/363 [==============================] - 0s 514us/step - loss: 0.2638 - root_mean_squared_error: 0.5136 - val_loss: 0.2902 - val_root_mean_squared_error: 0.5387\n",
      "162/162 [==============================] - 0s 307us/step - loss: 0.3183 - root_mean_squared_error: 0.5642\n",
      "1/1 [==============================] - 0s 25ms/step\n"
     ]
    }
   ],
   "source": [
    "tf.random.set_seed(10)\n",
    "norm_layer = tf.keras.layers.Normalization(input_shape=X_train.shape[1:])\n",
    "model = tf.keras.Sequential([\n",
    "    norm_layer,\n",
    "    tf.keras.layers.Dense(50, activation=\"relu\"),\n",
    "    tf.keras.layers.Dense(50, activation=\"relu\"),\n",
    "    tf.keras.layers.Dense(50, activation=\"relu\"),\n",
    "    tf.keras.layers.Dense(1)\n",
    "])\n",
    "optimizer = tf.keras.optimizers.Adam(learning_rate=0.001)\n",
    "model.compile(loss=\"mse\", optimizer=optimizer, metrics=[\"RootMeanSquaredError\"])\n",
    "norm_layer.adapt(X_train)\n",
    "history = model.fit(X_train, y_train, epochs=20,\n",
    "                    validation_data=(X_valid, y_valid))\n",
    "mse_test, rmse_test = model.evaluate(X_test, y_test)\n",
    "X_new = X_test[:3]\n",
    "y_pred = model.predict(X_new)"
   ]
  },
  {
   "cell_type": "code",
   "execution_count": 7,
   "metadata": {},
   "outputs": [
    {
     "data": {
      "text/plain": [
       "0.5641567707061768"
      ]
     },
     "execution_count": 7,
     "metadata": {},
     "output_type": "execute_result"
    }
   ],
   "source": [
    "rmse_test"
   ]
  },
  {
   "cell_type": "code",
   "execution_count": 8,
   "metadata": {},
   "outputs": [
    {
     "data": {
      "text/plain": [
       "array([[2.4134302],\n",
       "       [2.9671342],\n",
       "       [2.1627676]], dtype=float32)"
      ]
     },
     "execution_count": 8,
     "metadata": {},
     "output_type": "execute_result"
    }
   ],
   "source": [
    "y_pred"
   ]
  },
  {
   "cell_type": "code",
   "execution_count": null,
   "metadata": {},
   "outputs": [],
   "source": []
  }
 ],
 "metadata": {
  "kernelspec": {
   "display_name": ".venv",
   "language": "python",
   "name": "python3"
  },
  "language_info": {
   "codemirror_mode": {
    "name": "ipython",
    "version": 3
   },
   "file_extension": ".py",
   "mimetype": "text/x-python",
   "name": "python",
   "nbconvert_exporter": "python",
   "pygments_lexer": "ipython3",
   "version": "3.9.6"
  }
 },
 "nbformat": 4,
 "nbformat_minor": 2
}
